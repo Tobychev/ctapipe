{
 "cells": [
  {
   "cell_type": "markdown",
   "id": "1d2a07b9-3eb4-47cd-8cd0-8793c0e29ad7",
   "metadata": {
    "tags": []
   },
   "source": [
    "# Display the shower core on an ArrayDisplay\n",
    "\n",
    "This demonstrates plotting the image axes of multiple events"
   ]
  },
  {
   "cell_type": "code",
   "execution_count": null,
   "id": "67ccfc65-3e4b-463f-844b-05f90040a4d7",
   "metadata": {
    "tags": []
   },
   "outputs": [],
   "source": [
    "import matplotlib.pyplot as plt\n",
    "from astropy.coordinates import SkyCoord\n",
    "from ctapipe.calib import CameraCalibrator\n",
    "from ctapipe.image import ImageProcessor\n",
    "from ctapipe.io import EventSource\n",
    "from ctapipe.reco import ShowerProcessor\n",
    "from ctapipe.utils import get_dataset_path\n",
    "from ctapipe.visualization import ArrayDisplay\n",
    "from IPython import display\n",
    "from matplotlib.animation import FuncAnimation\n",
    "\n",
    "input_url = \"dataset://gamma_LaPalma_baseline_20Zd_180Az_prod3b_test.simtel.gz\""
   ]
  },
  {
   "cell_type": "markdown",
   "id": "ab0a593f-d829-4e2f-93ac-633bdec2a017",
   "metadata": {
    "tags": []
   },
   "source": [
    "Define a function to plot the array with overlaid lines for the image axes"
   ]
  },
  {
   "cell_type": "code",
   "execution_count": null,
   "id": "addd08d9-217c-4b0c-9990-6d5e82caf460",
   "metadata": {
    "tags": []
   },
   "outputs": [],
   "source": [
    "def plot_event(event, subarray, ax):\n",
    "\n",
    "    array_pointing = SkyCoord(\n",
    "        az=event.pointing.array_azimuth,\n",
    "        alt=event.pointing.array_altitude,\n",
    "        frame=\"altaz\",\n",
    "    )\n",
    "\n",
    "    angle_offset = event.pointing.array_azimuth\n",
    "    disp = ArrayDisplay(subarray, axes=ax)\n",
    "\n",
    "    hillas_dict = {tid: tel.parameters.hillas for tid, tel in event.dl1.tel.items()}\n",
    "    core_dict = {tid: tel.parameters.core.psi for tid, tel in event.dl1.tel.items()}\n",
    "\n",
    "    disp.set_line_hillas(\n",
    "        hillas_dict,\n",
    "        core_dict,\n",
    "        500,\n",
    "    )\n",
    "\n",
    "    reco_shower = event.dl2.stereo.geometry[\"HillasReconstructor\"]\n",
    "\n",
    "    ax.scatter(\n",
    "        event.simulation.shower.core_x,\n",
    "        event.simulation.shower.core_y,\n",
    "        s=200,\n",
    "        c=\"k\",\n",
    "        marker=\"x\",\n",
    "        label=\"True Impact\",\n",
    "    )\n",
    "    ax.scatter(\n",
    "        reco_shower.core_x,\n",
    "        reco_shower.core_y,\n",
    "        s=200,\n",
    "        c=\"r\",\n",
    "        marker=\"x\",\n",
    "        label=\"Estimated Impact\",\n",
    "    )\n",
    "\n",
    "    ax.legend()"
   ]
  },
  {
   "cell_type": "markdown",
   "id": "a5be456e-6db9-4a05-9dac-f0db3b1d9c3d",
   "metadata": {},
   "source": [
    "Now, we can loop through some events and plot them. Here we apply default calibration, image processing, and reconstruction, however it is better to use `ctapipe-process` with a well-defined configuration to do this in reality.  Note that some events will not have images bright enough to do parameterization or reconstruction, so they will have no image axis lines or no estimated impact position."
   ]
  },
  {
   "cell_type": "code",
   "execution_count": null,
   "id": "cf2f7782-6483-4fca-9f07-a6c367345232",
   "metadata": {
    "tags": []
   },
   "outputs": [],
   "source": [
    "fig, ax = plt.subplots(5, 3, figsize=(20, 40), constrained_layout=True)\n",
    "ax = ax.ravel()\n",
    "\n",
    "\n",
    "with EventSource(input_url, max_events=15, focal_length_choice=\"EQUIVALENT\") as source:\n",
    "    calib = CameraCalibrator(subarray=source.subarray)\n",
    "    process_images = ImageProcessor(subarray=source.subarray)\n",
    "    process_shower = ShowerProcessor(subarray=source.subarray)\n",
    "\n",
    "    for i, event in enumerate(source):\n",
    "        calib(event)\n",
    "        process_images(event)\n",
    "        process_shower(event)\n",
    "        plot_event(event, source.subarray, ax=ax[i])"
   ]
  },
  {
   "cell_type": "code",
   "execution_count": null,
   "id": "f3a1d953-fe94-4d0e-833f-30a35c63b76e",
   "metadata": {},
   "outputs": [],
   "source": []
  }
 ],
 "metadata": {
  "language_info": {
   "codemirror_mode": {
    "name": "ipython"
   },
   "file_extension": ".py",
   "mimetype": "text/x-python",
   "name": "python",
   "nbconvert_exporter": "python"
  }
 },
 "nbformat": 4,
 "nbformat_minor": 5
}
