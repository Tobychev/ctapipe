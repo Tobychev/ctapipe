{
 "cells": [
  {
   "cell_type": "markdown",
   "id": "fb302dc9-65c4-41b0-b8d3-865c0f7845a7",
   "metadata": {
    "tags": []
   },
   "source": [
    "# Array Displays\n",
    "\n",
    "Like `CameraDisplays`, ctapipe provides a way to display information related to the array on the ground: `ArrayDisplay`"
   ]
  },
  {
   "cell_type": "code",
   "execution_count": null,
   "id": "1217a94e-f541-4dfe-8f4f-ec9dd70296fd",
   "metadata": {
    "tags": []
   },
   "outputs": [],
   "source": [
    "from ctapipe.visualization import ArrayDisplay\n",
    "from ctapipe.instrument import SubarrayDescription\n",
    "from ctapipe.coordinates import GroundFrame, EastingNorthingFrame\n",
    "from ctapipe.containers import HillasParametersContainer\n",
    "\n",
    "from astropy.coordinates import SkyCoord\n",
    "from astropy import units as u\n",
    "\n",
    "import matplotlib.pyplot as plt\n",
    "import numpy as np\n",
    "\n",
    "plt.rcParams[\"figure.figsize\"] = (8, 6)"
   ]
  },
  {
   "cell_type": "code",
   "execution_count": null,
   "id": "c7c6775d-ce49-4d83-a3c6-e7f5ed55abfd",
   "metadata": {
    "tags": []
   },
   "outputs": [],
   "source": [
    "tel_ids = list(range(1, 5)) + list(range(5, 20))  # just LSTs  + one set of MSTs\n",
    "\n",
    "subarray = SubarrayDescription.read(\n",
    "    \"dataset://gamma_20deg_0deg_run1___cta-prod5-lapalma_desert-2158m-LaPalma-dark_100evts.simtel.zst\"\n",
    ").select_subarray(tel_ids)"
   ]
  },
  {
   "cell_type": "markdown",
   "id": "d3b103fc-6b8c-4233-939a-09c5f5d0e60d",
   "metadata": {},
   "source": [
    "An array display is created for example in `subarray.peek()`:"
   ]
  },
  {
   "cell_type": "code",
   "execution_count": null,
   "id": "a32c4646-9c74-4665-bfaa-81aa1de88dc8",
   "metadata": {
    "tags": []
   },
   "outputs": [],
   "source": [
    "subarray.peek()"
   ]
  },
  {
   "cell_type": "markdown",
   "id": "a27ed92a-268c-404c-8b96-039a739ea26a",
   "metadata": {
    "tags": []
   },
   "source": [
    "However, you can make one manually with a bit more flexibility:"
   ]
  },
  {
   "cell_type": "markdown",
   "id": "503dea3f-fff3-4cd2-b938-c0d524a6069c",
   "metadata": {},
   "source": [
    "## Constructing an ArrayDisplay"
   ]
  },
  {
   "cell_type": "code",
   "execution_count": null,
   "id": "e27d5c28-dfc7-424b-b511-bcb0a1f35729",
   "metadata": {
    "tags": []
   },
   "outputs": [],
   "source": [
    "disp = ArrayDisplay(subarray)"
   ]
  },
  {
   "cell_type": "markdown",
   "id": "ea297d1c-4777-4945-81d0-e7807605b742",
   "metadata": {
    "tags": []
   },
   "source": [
    "You can specify the Frame you want as long as it is compatible with `GroundFrame`.  `EastingNorthingFrame` is probably the most useful.  You can also add telescope labels"
   ]
  },
  {
   "cell_type": "code",
   "execution_count": null,
   "id": "46acf3bd-6cf3-42bb-8a76-163b44d3cc23",
   "metadata": {
    "tags": []
   },
   "outputs": [],
   "source": [
    "disp = ArrayDisplay(subarray, frame=EastingNorthingFrame())\n",
    "disp.add_labels()"
   ]
  },
  {
   "cell_type": "markdown",
   "id": "2925e1f6-eb29-43a7-bda1-c647424e7cf7",
   "metadata": {},
   "source": [
    "## Using color to show information \n",
    "\n",
    "By default the color  of the telescope circles correlates to telescope type. However, you can use color to convey other information  by setting the `values` attribute, like a trigger pattern"
   ]
  },
  {
   "cell_type": "code",
   "execution_count": null,
   "id": "141ef1eb-82ca-4e45-a3ae-2b11828c601c",
   "metadata": {
    "tags": []
   },
   "outputs": [],
   "source": [
    "plt.set_cmap(\"rainbow\")  # the array display will use the current colormap for values\n",
    "\n",
    "ad = ArrayDisplay(subarray)\n",
    "ad.telescopes.set_linewidth(0)  # to turn off the telescope borders\n",
    "\n",
    "trigger_pattern = np.zeros(subarray.n_tels)\n",
    "trigger_pattern[\n",
    "    [\n",
    "        1,\n",
    "        4,\n",
    "        5,\n",
    "        6,\n",
    "    ]\n",
    "] = 1\n",
    "ad.values = trigger_pattern  # display certain telescopes in a color\n",
    "ad.add_labels()"
   ]
  },
  {
   "cell_type": "markdown",
   "id": "a2c0cec8-46b8-4ea4-b4a5-70d943ed474c",
   "metadata": {
    "tags": []
   },
   "source": [
    "or for example, you could use color to represent the telescope distance to the impact point"
   ]
  },
  {
   "cell_type": "code",
   "execution_count": null,
   "id": "8422c9da-df65-44c4-b8bf-da49d95b16fb",
   "metadata": {
    "tags": []
   },
   "outputs": [],
   "source": [
    "shower_impact = c.SkyCoord(200 * u.m, -200 * u.m, 0 * u.m, frame=EastingNorthingFrame())"
   ]
  },
  {
   "cell_type": "code",
   "execution_count": null,
   "id": "e9e87e72-d000-4c14-99eb-665849d83e56",
   "metadata": {
    "tags": []
   },
   "outputs": [],
   "source": [
    "plt.set_cmap(\"rainbow\")  # the array display will use the current colormap for values\n",
    "ad = ArrayDisplay(subarray)\n",
    "ad.telescopes.set_linewidth(0)  # to turn off the telescope borders\n",
    "plt.scatter(shower_impact.easting, shower_impact.northing, marker=\"+\", s=200)\n",
    "\n",
    "distances = np.hypot(\n",
    "    subarray.tel_coords.cartesian.x - shower_impact.cartesian.x,\n",
    "    subarray.tel_coords.cartesian.y - shower_impact.cartesian.y,\n",
    ")\n",
    "ad.values = distances\n",
    "plt.colorbar(ad.telescopes, label=\"Distance (m)\")"
   ]
  },
  {
   "cell_type": "markdown",
   "id": "359935df-f551-40cf-8432-b191986c8213",
   "metadata": {
    "tags": []
   },
   "source": [
    "## Overlaying vectors\n",
    "\n",
    "For plotting reconstruction quantities, it's useful to overlay vectors on the telescope positions. `ArrayDisplay` provides functions:\n",
    "* `set_vector_uv` to set by cartesian coordinates from the center of each telescope\n",
    "* `set_vector_rho_phi` to set by polar coorinates from the center of each telescope\n",
    "* `set_vector_hillas` to set vectors from a `dict[int,HillasParameters]` mapping tel_id (not index!) to a set of parameters. "
   ]
  },
  {
   "cell_type": "code",
   "execution_count": null,
   "id": "040a0f4c-ffee-4a25-a419-7d90f5f16a6f",
   "metadata": {
    "tags": []
   },
   "outputs": [],
   "source": [
    "np.random.seed(0)\n",
    "phis = np.random.uniform(0, 180.0, size=subarray.n_tels) * u.deg\n",
    "rhos = np.ones(subarray.n_tels) * 200 * u.m\n",
    "\n",
    "\n",
    "ad = ArrayDisplay(subarray, frame=EastingNorthingFrame(), tel_scale=2)\n",
    "ad.set_vector_rho_phi(rho=rhos, phi=phis)"
   ]
  },
  {
   "cell_type": "code",
   "execution_count": null,
   "id": "a20d56b9-358c-4b7c-8e25-cf2518dd98f9",
   "metadata": {},
   "outputs": [],
   "source": []
  }
 ],
 "metadata": {
  "kernelspec": {
   "display_name": "Python (cta-dev)",
   "language": "python",
   "name": "cta-dev"
  },
  "language_info": {
   "codemirror_mode": {
    "name": "ipython",
    "version": 3
   },
   "file_extension": ".py",
   "mimetype": "text/x-python",
   "name": "python",
   "nbconvert_exporter": "python",
   "pygments_lexer": "ipython3",
   "version": "3.9.15"
  }
 },
 "nbformat": 4,
 "nbformat_minor": 5
}
