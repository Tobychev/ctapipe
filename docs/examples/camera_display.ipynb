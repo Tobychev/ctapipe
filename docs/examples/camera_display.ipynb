{
 "cells": [
  {
   "cell_type": "markdown",
   "metadata": {},
   "source": [
    "# Displaying Camera Images"
   ]
  },
  {
   "cell_type": "code",
   "execution_count": null,
   "metadata": {},
   "outputs": [],
   "source": [
    "import matplotlib.pylab as plt\n",
    "from ctapipe.instrument import SubarrayDescription\n",
    "from ctapipe.visualization import CameraDisplay\n",
    "from ctapipe.image import toymodel\n",
    "from ctapipe.image import hillas_parameters, tailcuts_clean\n",
    "import numpy as np\n",
    "import astropy.units as u\n",
    "import astropy.coordinates as c"
   ]
  },
  {
   "cell_type": "markdown",
   "metadata": {},
   "source": [
    "First, let's create a fake Cherenkov image from a given `CameraGeometry` and fill it with some data that we can draw later."
   ]
  },
  {
   "cell_type": "code",
   "execution_count": null,
   "metadata": {},
   "outputs": [],
   "source": [
    "# load an example camera geometry from a simulation file\n",
    "subarray = SubarrayDescription.read(\"dataset://gamma_prod5.simtel.zst\")\n",
    "geom = subarray.tel[100].camera.geometry\n",
    "\n",
    "# create a fake camera image to display:\n",
    "model = toymodel.Gaussian(\n",
    "    x=0.2 * u.m,\n",
    "    y=0.0 * u.m,\n",
    "    width=0.05 * u.m,\n",
    "    length=0.15 * u.m,\n",
    "    psi=\"35d\",\n",
    ")\n",
    "\n",
    "image, sig, bg = model.generate_image(geom, intensity=1500, nsb_level_pe=10)\n",
    "\n",
    "# apply really stupid image cleaning (single threshold):\n",
    "mask = tailcuts_clean(geom, image, 10, 5)"
   ]
  },
  {
   "cell_type": "markdown",
   "metadata": {},
   "source": [
    "note: if you want your camera to be displayed as it would be sitting ont he gronud in front of you, you probably want to transform your `CameraGeometry` into the `EngineeringCameraFrame` first.  This is optional. "
   ]
  },
  {
   "cell_type": "code",
   "execution_count": null,
   "metadata": {},
   "outputs": [],
   "source": [
    "from ctapipe.coordinates import EngineeringCameraFrame\n",
    "\n",
    "geom = geom.transform_to(EngineeringCameraFrame())"
   ]
  },
  {
   "cell_type": "markdown",
   "metadata": {},
   "source": [
    "## Displaying Images\n",
    "\n",
    "The simplest plot is just to generate a CameraDisplay with an image in its constructor.  A figure and axis will be created automatically"
   ]
  },
  {
   "cell_type": "code",
   "execution_count": null,
   "metadata": {},
   "outputs": [],
   "source": [
    "CameraDisplay(geom, image=image)"
   ]
  },
  {
   "cell_type": "markdown",
   "metadata": {},
   "source": [
    "To change other options, you should call the relevant functions of the `CameraDisplay` object that is returned.  For example to add a color bar, call `add_colorbar()`, or to change the color scale, modify the `cmap` or `norm` properties directly.  "
   ]
  },
  {
   "cell_type": "markdown",
   "metadata": {},
   "source": [
    "### Changing the color map and scale"
   ]
  },
  {
   "cell_type": "code",
   "execution_count": null,
   "metadata": {},
   "outputs": [],
   "source": [
    "disp = CameraDisplay(geom, image=image)\n",
    "disp.add_colorbar()\n",
    "disp.cmap = \"rainbow\""
   ]
  },
  {
   "cell_type": "markdown",
   "metadata": {},
   "source": [
    "By default the minimum and maximum of the color bar are set automatically by the data in the image. To choose fixed limits, use:`"
   ]
  },
  {
   "cell_type": "code",
   "execution_count": null,
   "metadata": {},
   "outputs": [],
   "source": [
    "disp = CameraDisplay(geom, image=image, cmap=\"rainbow\")\n",
    "disp.add_colorbar()\n",
    "disp.set_limits_minmax(10, 50)"
   ]
  },
  {
   "cell_type": "markdown",
   "metadata": {},
   "source": [
    "or as a percentile"
   ]
  },
  {
   "cell_type": "code",
   "execution_count": null,
   "metadata": {},
   "outputs": [],
   "source": [
    "disp = CameraDisplay(geom, image=image, cmap=\"rainbow\")\n",
    "disp.add_colorbar()\n",
    "disp.set_limits_percent(50)"
   ]
  },
  {
   "cell_type": "markdown",
   "metadata": {},
   "source": [
    "### Using different normalizations"
   ]
  },
  {
   "cell_type": "markdown",
   "metadata": {},
   "source": [
    "You can choose from several preset normalizations (lin, log, symlog) and also provide a custom normalization, for example a `PowerNorm`:"
   ]
  },
  {
   "cell_type": "code",
   "execution_count": null,
   "metadata": {},
   "outputs": [],
   "source": [
    "from matplotlib.colors import PowerNorm\n",
    "\n",
    "fig, axes = plt.subplots(2, 2, figsize=(10, 10))\n",
    "norms = [\"lin\", \"log\", \"symlog\", PowerNorm(0.5)]\n",
    "\n",
    "for norm, ax in zip(norms, axes.flatten()):\n",
    "    disp = CameraDisplay(geom, image=image, ax=ax)\n",
    "    disp.norm = norm\n",
    "    ax.set_title(str(norm))\n",
    "\n",
    "axes[1, 1].set_title(\"PowerNorm(0.5)\")\n",
    "plt.show()"
   ]
  },
  {
   "cell_type": "markdown",
   "metadata": {},
   "source": [
    "## Overlays"
   ]
  },
  {
   "cell_type": "markdown",
   "metadata": {},
   "source": [
    "### Marking pixels\n",
    "\n",
    "here we will mark pixels in the image mask.  That will change their outline color"
   ]
  },
  {
   "cell_type": "code",
   "execution_count": null,
   "metadata": {},
   "outputs": [],
   "source": [
    "disp = CameraDisplay(geom, image=image, cmap=\"gray\")\n",
    "disp.highlight_pixels(mask, alpha=0.5, color=\"red\")"
   ]
  },
  {
   "cell_type": "markdown",
   "metadata": {},
   "source": [
    "### Drawing a Hillas-parameter ellipse"
   ]
  },
  {
   "cell_type": "markdown",
   "metadata": {},
   "source": [
    "For this, we will first compute some Hillas Parameters in the current frame:"
   ]
  },
  {
   "cell_type": "code",
   "execution_count": null,
   "metadata": {},
   "outputs": [],
   "source": [
    "clean_image = image.copy()\n",
    "clean_image[~mask] = 0\n",
    "hillas = hillas_parameters(geom, clean_image)\n",
    "\n",
    "plt.figure(figsize=(10, 10))\n",
    "disp = CameraDisplay(geom, image=image, cmap=\"gray_r\")\n",
    "disp.overlay_moments(hillas, color=\"orange\", linewidth=3, zorder=10)"
   ]
  },
  {
   "cell_type": "markdown",
   "metadata": {},
   "source": [
    "### Drawing a marker at a coordinate\n",
    "\n",
    "This depends on the coordinate frame of the `CameraGeometry`.  Here we will sepcify the coordinate the `EngineerngCameraFrame`, but if you have enough information to do the coordinate transform, you could use `ICRS` coordinates and overlay star positions. "
   ]
  },
  {
   "cell_type": "code",
   "execution_count": null,
   "metadata": {},
   "outputs": [],
   "source": [
    "plt.figure(figsize=(6, 6))\n",
    "disp = CameraDisplay(geom, image=image, cmap=\"gray_r\")\n",
    "\n",
    "coord = c.SkyCoord(x=0.5 * u.m, y=0.7 * u.m, frame=EngineeringCameraFrame())\n",
    "disp.overlay_coordinate(coord, markersize=20)"
   ]
  },
  {
   "cell_type": "markdown",
   "metadata": {},
   "source": [
    "## Using CameraDisplays interactively\n",
    "\n",
    "`CameraDisplays` can be used interactivly whe displayed in a window, and also when using Jupyter notebooks/lab with appropriate backends. \n",
    "\n",
    "When this is the case, the same `CameraDisplay` object can be re-used.  We can't show this here in the documentation, but creating an animation when in a matplotlib window is quite easy! Try this in an interactive ipython session:\n",
    "\n",
    "### Running interactive displays in a matplotlib window\n",
    "\n",
    "```sh\n",
    "ipython -i --maplotlib=auto\n",
    "```\n",
    "\n",
    "That will open an ipython session with matplotlib graphics in a separate thread, meaning that you can type code and interact with plots simultaneneously. \n",
    "\n",
    "In the ipython session try running the following code and you will see an animation (here in the documentation, it will of course be static)\n",
    "\n",
    "First we load some real data so we have a nice image to view:"
   ]
  },
  {
   "cell_type": "code",
   "execution_count": null,
   "metadata": {},
   "outputs": [],
   "source": [
    "import matplotlib.pyplot as plt\n",
    "from ctapipe.io import EventSource\n",
    "from ctapipe.visualization import CameraDisplay\n",
    "import numpy as np\n",
    "\n",
    "DATA = \"dataset://gamma_20deg_0deg_run1___cta-prod5-lapalma_desert-2158m-LaPalma-dark_100evts.simtel.zst\"\n",
    "\n",
    "with EventSource(\n",
    "    DATA,\n",
    "    max_events=1,\n",
    "    focal_length_choice=\"EQUIVALENT\",\n",
    ") as source:\n",
    "    event = next(iter(source))\n",
    "\n",
    "tel_id = list(event.r0.tel.keys())[0]\n",
    "geom = source.subarray.tel[tel_id].camera.geometry\n",
    "waveform = event.r0.tel[tel_id].waveform\n",
    "n_chan, n_pix, n_samp = waveform.shape"
   ]
  },
  {
   "cell_type": "markdown",
   "metadata": {},
   "source": [
    "Running the following the will bring up a window and animate the shower image as a function of time. "
   ]
  },
  {
   "cell_type": "code",
   "execution_count": null,
   "metadata": {},
   "outputs": [],
   "source": [
    "disp = CameraDisplay(geom)\n",
    "\n",
    "for ii in range(n_samp):\n",
    "    disp.image = waveform[0, :, ii]\n",
    "    plt.pause(0.1)  # this lets matplotlib re-draw the scene"
   ]
  },
  {
   "cell_type": "markdown",
   "metadata": {},
   "source": [
    "### Making it clickable \n",
    "\n",
    "Also when running in a window, you can enable the `disp.enable_pixel_picker()` option.  This will then allow the user to click a pixel and a function will run.  By default the function simply prints the pixel and value to stdout, however you can override the function `on_pixel_clicked(pix_id)` to do anything you want by making a subclass"
   ]
  },
  {
   "cell_type": "code",
   "execution_count": null,
   "metadata": {},
   "outputs": [],
   "source": [
    "class MyCameraDisplay(CameraDisplay):\n",
    "    def on_pixel_clicked(self, pix_id):\n",
    "        print(f\"{pix_id=} has value {self.image[pix_id]:.2f}\")"
   ]
  },
  {
   "cell_type": "code",
   "execution_count": null,
   "metadata": {},
   "outputs": [],
   "source": [
    "disp = MyCameraDisplay(geom, image=image)\n",
    "disp.enable_pixel_picker()"
   ]
  },
  {
   "cell_type": "markdown",
   "metadata": {},
   "source": [
    "then, whena user clicks a pixel it would print:\n",
    "```\n",
    "pixel 5 has value 2.44\n",
    "```"
   ]
  },
  {
   "cell_type": "markdown",
   "metadata": {},
   "source": [
    "## A continously running camera display\n",
    "\n",
    "Try the following code outside of a notebook to get a contiously updating camera display\n",
    "\n",
    "```python\n",
    "!/usr/bin/env python3\n",
    "\"\"\"\n",
    "Example of drawing and updating a Camera using a toymodel shower images.\n",
    "\n",
    "the animation should remain interactive, so try zooming in when it is\n",
    "running.\n",
    "\"\"\"\n",
    "\n",
    "import matplotlib.pylab as plt\n",
    "import numpy as np\n",
    "from astropy import units as u\n",
    "from matplotlib.animation import FuncAnimation\n",
    "\n",
    "from ctapipe.image import toymodel\n",
    "from ctapipe.instrument import SubarrayDescription\n",
    "from ctapipe.visualization import CameraDisplay\n",
    "\n",
    "if __name__ == \"__main__\":\n",
    "\n",
    "    fig, ax = plt.subplots()\n",
    "\n",
    "    # load the camera\n",
    "    subarray = SubarrayDescription.read(\"dataset://gamma_prod5.simtel.zst\")\n",
    "    geom = subarray.tel[1].camera.geometry\n",
    "\n",
    "    fov = 0.3\n",
    "    maxwid = 0.05\n",
    "    maxlen = 0.1\n",
    "\n",
    "    disp = CameraDisplay(geom, ax=ax)\n",
    "    disp.cmap = \"inferno\"\n",
    "    disp.add_colorbar(ax=ax)\n",
    "\n",
    "    def update(frame):\n",
    "        x, y = np.random.uniform(-fov, fov, size=2)\n",
    "        width = np.random.uniform(0.01, maxwid)\n",
    "        length = np.random.uniform(width, maxlen)\n",
    "        angle = np.random.uniform(0, 180)\n",
    "        intens = width * length * (5e4 + 1e5 * np.random.exponential(2))\n",
    "\n",
    "        model = toymodel.Gaussian(\n",
    "            x=x * u.m,\n",
    "            y=y * u.m,\n",
    "            width=width * u.m,\n",
    "            length=length * u.m,\n",
    "            psi=angle * u.deg,\n",
    "        )\n",
    "        image, _, _ = model.generate_image(\n",
    "            geom,\n",
    "            intensity=intens,\n",
    "            nsb_level_pe=5,\n",
    "        )\n",
    "        disp.image = image\n",
    "\n",
    "    anim = FuncAnimation(fig, update, interval=500)\n",
    "    plt.show()\n",
    "```"
   ]
  },
  {
   "cell_type": "markdown",
   "metadata": {},
   "source": [
    "# Other features\n",
    "\n",
    "## Plotting with Bokeh instead of Matplotlib\n",
    "\n",
    "There is a second experimental implementation of CameraDisplay that uses Bokeh as a backend.  Use it as follows:"
   ]
  },
  {
   "cell_type": "code",
   "execution_count": null,
   "metadata": {},
   "outputs": [],
   "source": [
    "from ctapipe.visualization.bokeh import CameraDisplay\n",
    "import bokeh\n",
    "\n",
    "bokeh.io.output_notebook()"
   ]
  },
  {
   "cell_type": "code",
   "execution_count": null,
   "metadata": {},
   "outputs": [],
   "source": [
    "bdisp = CameraDisplay(geom, image=image)\n",
    "bdisp.show()"
   ]
  }
 ],
 "metadata": {
  "anaconda-cloud": {},
  "kernelspec": {
   "display_name": "Python (cta-dev)",
   "language": "python",
   "name": "cta-dev"
  },
  "language_info": {
   "codemirror_mode": {
    "name": "ipython",
    "version": 3
   },
   "file_extension": ".py",
   "mimetype": "text/x-python",
   "name": "python",
   "nbconvert_exporter": "python",
   "pygments_lexer": "ipython3",
   "version": "3.9.15"
  }
 },
 "nbformat": 4,
 "nbformat_minor": 4
}
